{
 "cells": [
  {
   "cell_type": "code",
   "execution_count": 21,
   "id": "bb552771",
   "metadata": {},
   "outputs": [],
   "source": [
    "import numpy as np\n",
    "import pandas as pd\n",
    "import matplotlib.pyplot as plt\n",
    "%matplotlib inline"
   ]
  },
  {
   "cell_type": "code",
   "execution_count": 22,
   "id": "beaa8921",
   "metadata": {},
   "outputs": [],
   "source": [
    "data=pd.read_csv('HousingData.csv')"
   ]
  },
  {
   "cell_type": "code",
   "execution_count": 23,
   "id": "afad7260",
   "metadata": {},
   "outputs": [
    {
     "data": {
      "text/html": [
       "<div>\n",
       "<style scoped>\n",
       "    .dataframe tbody tr th:only-of-type {\n",
       "        vertical-align: middle;\n",
       "    }\n",
       "\n",
       "    .dataframe tbody tr th {\n",
       "        vertical-align: top;\n",
       "    }\n",
       "\n",
       "    .dataframe thead th {\n",
       "        text-align: right;\n",
       "    }\n",
       "</style>\n",
       "<table border=\"1\" class=\"dataframe\">\n",
       "  <thead>\n",
       "    <tr style=\"text-align: right;\">\n",
       "      <th></th>\n",
       "      <th>CRIM</th>\n",
       "      <th>ZN</th>\n",
       "      <th>INDUS</th>\n",
       "      <th>CHAS</th>\n",
       "      <th>NOX</th>\n",
       "      <th>RM</th>\n",
       "      <th>AGE</th>\n",
       "      <th>DIS</th>\n",
       "      <th>RAD</th>\n",
       "      <th>TAX</th>\n",
       "      <th>PTRATIO</th>\n",
       "      <th>B</th>\n",
       "      <th>LSTAT</th>\n",
       "      <th>MEDV</th>\n",
       "    </tr>\n",
       "  </thead>\n",
       "  <tbody>\n",
       "    <tr>\n",
       "      <th>0</th>\n",
       "      <td>0.00632</td>\n",
       "      <td>18.0</td>\n",
       "      <td>2.31</td>\n",
       "      <td>0.0</td>\n",
       "      <td>0.538</td>\n",
       "      <td>6.575</td>\n",
       "      <td>65.2</td>\n",
       "      <td>4.0900</td>\n",
       "      <td>1</td>\n",
       "      <td>296</td>\n",
       "      <td>15.3</td>\n",
       "      <td>396.90</td>\n",
       "      <td>4.98</td>\n",
       "      <td>24.0</td>\n",
       "    </tr>\n",
       "    <tr>\n",
       "      <th>1</th>\n",
       "      <td>0.02731</td>\n",
       "      <td>0.0</td>\n",
       "      <td>7.07</td>\n",
       "      <td>0.0</td>\n",
       "      <td>0.469</td>\n",
       "      <td>6.421</td>\n",
       "      <td>78.9</td>\n",
       "      <td>4.9671</td>\n",
       "      <td>2</td>\n",
       "      <td>242</td>\n",
       "      <td>17.8</td>\n",
       "      <td>396.90</td>\n",
       "      <td>9.14</td>\n",
       "      <td>21.6</td>\n",
       "    </tr>\n",
       "    <tr>\n",
       "      <th>2</th>\n",
       "      <td>0.02729</td>\n",
       "      <td>0.0</td>\n",
       "      <td>7.07</td>\n",
       "      <td>0.0</td>\n",
       "      <td>0.469</td>\n",
       "      <td>7.185</td>\n",
       "      <td>61.1</td>\n",
       "      <td>4.9671</td>\n",
       "      <td>2</td>\n",
       "      <td>242</td>\n",
       "      <td>17.8</td>\n",
       "      <td>392.83</td>\n",
       "      <td>4.03</td>\n",
       "      <td>34.7</td>\n",
       "    </tr>\n",
       "    <tr>\n",
       "      <th>3</th>\n",
       "      <td>0.03237</td>\n",
       "      <td>0.0</td>\n",
       "      <td>2.18</td>\n",
       "      <td>0.0</td>\n",
       "      <td>0.458</td>\n",
       "      <td>6.998</td>\n",
       "      <td>45.8</td>\n",
       "      <td>6.0622</td>\n",
       "      <td>3</td>\n",
       "      <td>222</td>\n",
       "      <td>18.7</td>\n",
       "      <td>394.63</td>\n",
       "      <td>2.94</td>\n",
       "      <td>33.4</td>\n",
       "    </tr>\n",
       "    <tr>\n",
       "      <th>4</th>\n",
       "      <td>0.06905</td>\n",
       "      <td>0.0</td>\n",
       "      <td>2.18</td>\n",
       "      <td>0.0</td>\n",
       "      <td>0.458</td>\n",
       "      <td>7.147</td>\n",
       "      <td>54.2</td>\n",
       "      <td>6.0622</td>\n",
       "      <td>3</td>\n",
       "      <td>222</td>\n",
       "      <td>18.7</td>\n",
       "      <td>396.90</td>\n",
       "      <td>NaN</td>\n",
       "      <td>36.2</td>\n",
       "    </tr>\n",
       "    <tr>\n",
       "      <th>...</th>\n",
       "      <td>...</td>\n",
       "      <td>...</td>\n",
       "      <td>...</td>\n",
       "      <td>...</td>\n",
       "      <td>...</td>\n",
       "      <td>...</td>\n",
       "      <td>...</td>\n",
       "      <td>...</td>\n",
       "      <td>...</td>\n",
       "      <td>...</td>\n",
       "      <td>...</td>\n",
       "      <td>...</td>\n",
       "      <td>...</td>\n",
       "      <td>...</td>\n",
       "    </tr>\n",
       "    <tr>\n",
       "      <th>501</th>\n",
       "      <td>0.06263</td>\n",
       "      <td>0.0</td>\n",
       "      <td>11.93</td>\n",
       "      <td>0.0</td>\n",
       "      <td>0.573</td>\n",
       "      <td>6.593</td>\n",
       "      <td>69.1</td>\n",
       "      <td>2.4786</td>\n",
       "      <td>1</td>\n",
       "      <td>273</td>\n",
       "      <td>21.0</td>\n",
       "      <td>391.99</td>\n",
       "      <td>NaN</td>\n",
       "      <td>22.4</td>\n",
       "    </tr>\n",
       "    <tr>\n",
       "      <th>502</th>\n",
       "      <td>0.04527</td>\n",
       "      <td>0.0</td>\n",
       "      <td>11.93</td>\n",
       "      <td>0.0</td>\n",
       "      <td>0.573</td>\n",
       "      <td>6.120</td>\n",
       "      <td>76.7</td>\n",
       "      <td>2.2875</td>\n",
       "      <td>1</td>\n",
       "      <td>273</td>\n",
       "      <td>21.0</td>\n",
       "      <td>396.90</td>\n",
       "      <td>9.08</td>\n",
       "      <td>20.6</td>\n",
       "    </tr>\n",
       "    <tr>\n",
       "      <th>503</th>\n",
       "      <td>0.06076</td>\n",
       "      <td>0.0</td>\n",
       "      <td>11.93</td>\n",
       "      <td>0.0</td>\n",
       "      <td>0.573</td>\n",
       "      <td>6.976</td>\n",
       "      <td>91.0</td>\n",
       "      <td>2.1675</td>\n",
       "      <td>1</td>\n",
       "      <td>273</td>\n",
       "      <td>21.0</td>\n",
       "      <td>396.90</td>\n",
       "      <td>5.64</td>\n",
       "      <td>23.9</td>\n",
       "    </tr>\n",
       "    <tr>\n",
       "      <th>504</th>\n",
       "      <td>0.10959</td>\n",
       "      <td>0.0</td>\n",
       "      <td>11.93</td>\n",
       "      <td>0.0</td>\n",
       "      <td>0.573</td>\n",
       "      <td>6.794</td>\n",
       "      <td>89.3</td>\n",
       "      <td>2.3889</td>\n",
       "      <td>1</td>\n",
       "      <td>273</td>\n",
       "      <td>21.0</td>\n",
       "      <td>393.45</td>\n",
       "      <td>6.48</td>\n",
       "      <td>22.0</td>\n",
       "    </tr>\n",
       "    <tr>\n",
       "      <th>505</th>\n",
       "      <td>0.04741</td>\n",
       "      <td>0.0</td>\n",
       "      <td>11.93</td>\n",
       "      <td>0.0</td>\n",
       "      <td>0.573</td>\n",
       "      <td>6.030</td>\n",
       "      <td>NaN</td>\n",
       "      <td>2.5050</td>\n",
       "      <td>1</td>\n",
       "      <td>273</td>\n",
       "      <td>21.0</td>\n",
       "      <td>396.90</td>\n",
       "      <td>7.88</td>\n",
       "      <td>11.9</td>\n",
       "    </tr>\n",
       "  </tbody>\n",
       "</table>\n",
       "<p>506 rows × 14 columns</p>\n",
       "</div>"
      ],
      "text/plain": [
       "        CRIM    ZN  INDUS  CHAS    NOX     RM   AGE     DIS  RAD  TAX  \\\n",
       "0    0.00632  18.0   2.31   0.0  0.538  6.575  65.2  4.0900    1  296   \n",
       "1    0.02731   0.0   7.07   0.0  0.469  6.421  78.9  4.9671    2  242   \n",
       "2    0.02729   0.0   7.07   0.0  0.469  7.185  61.1  4.9671    2  242   \n",
       "3    0.03237   0.0   2.18   0.0  0.458  6.998  45.8  6.0622    3  222   \n",
       "4    0.06905   0.0   2.18   0.0  0.458  7.147  54.2  6.0622    3  222   \n",
       "..       ...   ...    ...   ...    ...    ...   ...     ...  ...  ...   \n",
       "501  0.06263   0.0  11.93   0.0  0.573  6.593  69.1  2.4786    1  273   \n",
       "502  0.04527   0.0  11.93   0.0  0.573  6.120  76.7  2.2875    1  273   \n",
       "503  0.06076   0.0  11.93   0.0  0.573  6.976  91.0  2.1675    1  273   \n",
       "504  0.10959   0.0  11.93   0.0  0.573  6.794  89.3  2.3889    1  273   \n",
       "505  0.04741   0.0  11.93   0.0  0.573  6.030   NaN  2.5050    1  273   \n",
       "\n",
       "     PTRATIO       B  LSTAT  MEDV  \n",
       "0       15.3  396.90   4.98  24.0  \n",
       "1       17.8  396.90   9.14  21.6  \n",
       "2       17.8  392.83   4.03  34.7  \n",
       "3       18.7  394.63   2.94  33.4  \n",
       "4       18.7  396.90    NaN  36.2  \n",
       "..       ...     ...    ...   ...  \n",
       "501     21.0  391.99    NaN  22.4  \n",
       "502     21.0  396.90   9.08  20.6  \n",
       "503     21.0  396.90   5.64  23.9  \n",
       "504     21.0  393.45   6.48  22.0  \n",
       "505     21.0  396.90   7.88  11.9  \n",
       "\n",
       "[506 rows x 14 columns]"
      ]
     },
     "execution_count": 23,
     "metadata": {},
     "output_type": "execute_result"
    }
   ],
   "source": [
    "data"
   ]
  },
  {
   "cell_type": "code",
   "execution_count": 24,
   "id": "f362d285",
   "metadata": {},
   "outputs": [
    {
     "data": {
      "text/plain": [
       "CRIM       20\n",
       "ZN         20\n",
       "INDUS      20\n",
       "CHAS       20\n",
       "NOX         0\n",
       "RM          0\n",
       "AGE        20\n",
       "DIS         0\n",
       "RAD         0\n",
       "TAX         0\n",
       "PTRATIO     0\n",
       "B           0\n",
       "LSTAT      20\n",
       "MEDV        0\n",
       "dtype: int64"
      ]
     },
     "execution_count": 24,
     "metadata": {},
     "output_type": "execute_result"
    }
   ],
   "source": [
    "data.isna().sum()"
   ]
  },
  {
   "cell_type": "code",
   "execution_count": 27,
   "id": "541ed255",
   "metadata": {},
   "outputs": [],
   "source": [
    "data['CRIM']=data['CRIM'].fillna(data['CRIM'].median())\n",
    "data['ZN']=data['ZN'].fillna(data['ZN'].mean())\n",
    "data['INDUS']=data['INDUS'].fillna(data['INDUS'].mean())\n",
    "data['CHAS']=data['CHAS'].fillna(data['CHAS'].mean())\n",
    "data['AGE']=data['AGE'].fillna(data['AGE'].mean())\n",
    "data['LSTAT']=data['LSTAT'].fillna(data['LSTAT'].mean())"
   ]
  },
  {
   "cell_type": "code",
   "execution_count": 28,
   "id": "4055cc02",
   "metadata": {},
   "outputs": [
    {
     "data": {
      "text/plain": [
       "CRIM       0\n",
       "ZN         0\n",
       "INDUS      0\n",
       "CHAS       0\n",
       "NOX        0\n",
       "RM         0\n",
       "AGE        0\n",
       "DIS        0\n",
       "RAD        0\n",
       "TAX        0\n",
       "PTRATIO    0\n",
       "B          0\n",
       "LSTAT      0\n",
       "MEDV       0\n",
       "dtype: int64"
      ]
     },
     "execution_count": 28,
     "metadata": {},
     "output_type": "execute_result"
    }
   ],
   "source": [
    "data.isna().sum()"
   ]
  },
  {
   "cell_type": "code",
   "execution_count": 29,
   "id": "07559610",
   "metadata": {},
   "outputs": [
    {
     "data": {
      "text/html": [
       "<div>\n",
       "<style scoped>\n",
       "    .dataframe tbody tr th:only-of-type {\n",
       "        vertical-align: middle;\n",
       "    }\n",
       "\n",
       "    .dataframe tbody tr th {\n",
       "        vertical-align: top;\n",
       "    }\n",
       "\n",
       "    .dataframe thead th {\n",
       "        text-align: right;\n",
       "    }\n",
       "</style>\n",
       "<table border=\"1\" class=\"dataframe\">\n",
       "  <thead>\n",
       "    <tr style=\"text-align: right;\">\n",
       "      <th></th>\n",
       "      <th>CRIM</th>\n",
       "      <th>ZN</th>\n",
       "      <th>INDUS</th>\n",
       "      <th>CHAS</th>\n",
       "      <th>NOX</th>\n",
       "      <th>RM</th>\n",
       "      <th>AGE</th>\n",
       "      <th>DIS</th>\n",
       "      <th>RAD</th>\n",
       "      <th>TAX</th>\n",
       "      <th>PTRATIO</th>\n",
       "      <th>B</th>\n",
       "      <th>LSTAT</th>\n",
       "      <th>MEDV</th>\n",
       "    </tr>\n",
       "  </thead>\n",
       "  <tbody>\n",
       "    <tr>\n",
       "      <th>0</th>\n",
       "      <td>0.00632</td>\n",
       "      <td>18.0</td>\n",
       "      <td>2.31</td>\n",
       "      <td>0.0</td>\n",
       "      <td>0.538</td>\n",
       "      <td>6.575</td>\n",
       "      <td>65.200000</td>\n",
       "      <td>4.0900</td>\n",
       "      <td>1</td>\n",
       "      <td>296</td>\n",
       "      <td>15.3</td>\n",
       "      <td>396.90</td>\n",
       "      <td>4.980000</td>\n",
       "      <td>24.0</td>\n",
       "    </tr>\n",
       "    <tr>\n",
       "      <th>1</th>\n",
       "      <td>0.02731</td>\n",
       "      <td>0.0</td>\n",
       "      <td>7.07</td>\n",
       "      <td>0.0</td>\n",
       "      <td>0.469</td>\n",
       "      <td>6.421</td>\n",
       "      <td>78.900000</td>\n",
       "      <td>4.9671</td>\n",
       "      <td>2</td>\n",
       "      <td>242</td>\n",
       "      <td>17.8</td>\n",
       "      <td>396.90</td>\n",
       "      <td>9.140000</td>\n",
       "      <td>21.6</td>\n",
       "    </tr>\n",
       "    <tr>\n",
       "      <th>2</th>\n",
       "      <td>0.02729</td>\n",
       "      <td>0.0</td>\n",
       "      <td>7.07</td>\n",
       "      <td>0.0</td>\n",
       "      <td>0.469</td>\n",
       "      <td>7.185</td>\n",
       "      <td>61.100000</td>\n",
       "      <td>4.9671</td>\n",
       "      <td>2</td>\n",
       "      <td>242</td>\n",
       "      <td>17.8</td>\n",
       "      <td>392.83</td>\n",
       "      <td>4.030000</td>\n",
       "      <td>34.7</td>\n",
       "    </tr>\n",
       "    <tr>\n",
       "      <th>3</th>\n",
       "      <td>0.03237</td>\n",
       "      <td>0.0</td>\n",
       "      <td>2.18</td>\n",
       "      <td>0.0</td>\n",
       "      <td>0.458</td>\n",
       "      <td>6.998</td>\n",
       "      <td>45.800000</td>\n",
       "      <td>6.0622</td>\n",
       "      <td>3</td>\n",
       "      <td>222</td>\n",
       "      <td>18.7</td>\n",
       "      <td>394.63</td>\n",
       "      <td>2.940000</td>\n",
       "      <td>33.4</td>\n",
       "    </tr>\n",
       "    <tr>\n",
       "      <th>4</th>\n",
       "      <td>0.06905</td>\n",
       "      <td>0.0</td>\n",
       "      <td>2.18</td>\n",
       "      <td>0.0</td>\n",
       "      <td>0.458</td>\n",
       "      <td>7.147</td>\n",
       "      <td>54.200000</td>\n",
       "      <td>6.0622</td>\n",
       "      <td>3</td>\n",
       "      <td>222</td>\n",
       "      <td>18.7</td>\n",
       "      <td>396.90</td>\n",
       "      <td>12.715432</td>\n",
       "      <td>36.2</td>\n",
       "    </tr>\n",
       "    <tr>\n",
       "      <th>...</th>\n",
       "      <td>...</td>\n",
       "      <td>...</td>\n",
       "      <td>...</td>\n",
       "      <td>...</td>\n",
       "      <td>...</td>\n",
       "      <td>...</td>\n",
       "      <td>...</td>\n",
       "      <td>...</td>\n",
       "      <td>...</td>\n",
       "      <td>...</td>\n",
       "      <td>...</td>\n",
       "      <td>...</td>\n",
       "      <td>...</td>\n",
       "      <td>...</td>\n",
       "    </tr>\n",
       "    <tr>\n",
       "      <th>501</th>\n",
       "      <td>0.06263</td>\n",
       "      <td>0.0</td>\n",
       "      <td>11.93</td>\n",
       "      <td>0.0</td>\n",
       "      <td>0.573</td>\n",
       "      <td>6.593</td>\n",
       "      <td>69.100000</td>\n",
       "      <td>2.4786</td>\n",
       "      <td>1</td>\n",
       "      <td>273</td>\n",
       "      <td>21.0</td>\n",
       "      <td>391.99</td>\n",
       "      <td>12.715432</td>\n",
       "      <td>22.4</td>\n",
       "    </tr>\n",
       "    <tr>\n",
       "      <th>502</th>\n",
       "      <td>0.04527</td>\n",
       "      <td>0.0</td>\n",
       "      <td>11.93</td>\n",
       "      <td>0.0</td>\n",
       "      <td>0.573</td>\n",
       "      <td>6.120</td>\n",
       "      <td>76.700000</td>\n",
       "      <td>2.2875</td>\n",
       "      <td>1</td>\n",
       "      <td>273</td>\n",
       "      <td>21.0</td>\n",
       "      <td>396.90</td>\n",
       "      <td>9.080000</td>\n",
       "      <td>20.6</td>\n",
       "    </tr>\n",
       "    <tr>\n",
       "      <th>503</th>\n",
       "      <td>0.06076</td>\n",
       "      <td>0.0</td>\n",
       "      <td>11.93</td>\n",
       "      <td>0.0</td>\n",
       "      <td>0.573</td>\n",
       "      <td>6.976</td>\n",
       "      <td>91.000000</td>\n",
       "      <td>2.1675</td>\n",
       "      <td>1</td>\n",
       "      <td>273</td>\n",
       "      <td>21.0</td>\n",
       "      <td>396.90</td>\n",
       "      <td>5.640000</td>\n",
       "      <td>23.9</td>\n",
       "    </tr>\n",
       "    <tr>\n",
       "      <th>504</th>\n",
       "      <td>0.10959</td>\n",
       "      <td>0.0</td>\n",
       "      <td>11.93</td>\n",
       "      <td>0.0</td>\n",
       "      <td>0.573</td>\n",
       "      <td>6.794</td>\n",
       "      <td>89.300000</td>\n",
       "      <td>2.3889</td>\n",
       "      <td>1</td>\n",
       "      <td>273</td>\n",
       "      <td>21.0</td>\n",
       "      <td>393.45</td>\n",
       "      <td>6.480000</td>\n",
       "      <td>22.0</td>\n",
       "    </tr>\n",
       "    <tr>\n",
       "      <th>505</th>\n",
       "      <td>0.04741</td>\n",
       "      <td>0.0</td>\n",
       "      <td>11.93</td>\n",
       "      <td>0.0</td>\n",
       "      <td>0.573</td>\n",
       "      <td>6.030</td>\n",
       "      <td>68.518519</td>\n",
       "      <td>2.5050</td>\n",
       "      <td>1</td>\n",
       "      <td>273</td>\n",
       "      <td>21.0</td>\n",
       "      <td>396.90</td>\n",
       "      <td>7.880000</td>\n",
       "      <td>11.9</td>\n",
       "    </tr>\n",
       "  </tbody>\n",
       "</table>\n",
       "<p>506 rows × 14 columns</p>\n",
       "</div>"
      ],
      "text/plain": [
       "        CRIM    ZN  INDUS  CHAS    NOX     RM        AGE     DIS  RAD  TAX  \\\n",
       "0    0.00632  18.0   2.31   0.0  0.538  6.575  65.200000  4.0900    1  296   \n",
       "1    0.02731   0.0   7.07   0.0  0.469  6.421  78.900000  4.9671    2  242   \n",
       "2    0.02729   0.0   7.07   0.0  0.469  7.185  61.100000  4.9671    2  242   \n",
       "3    0.03237   0.0   2.18   0.0  0.458  6.998  45.800000  6.0622    3  222   \n",
       "4    0.06905   0.0   2.18   0.0  0.458  7.147  54.200000  6.0622    3  222   \n",
       "..       ...   ...    ...   ...    ...    ...        ...     ...  ...  ...   \n",
       "501  0.06263   0.0  11.93   0.0  0.573  6.593  69.100000  2.4786    1  273   \n",
       "502  0.04527   0.0  11.93   0.0  0.573  6.120  76.700000  2.2875    1  273   \n",
       "503  0.06076   0.0  11.93   0.0  0.573  6.976  91.000000  2.1675    1  273   \n",
       "504  0.10959   0.0  11.93   0.0  0.573  6.794  89.300000  2.3889    1  273   \n",
       "505  0.04741   0.0  11.93   0.0  0.573  6.030  68.518519  2.5050    1  273   \n",
       "\n",
       "     PTRATIO       B      LSTAT  MEDV  \n",
       "0       15.3  396.90   4.980000  24.0  \n",
       "1       17.8  396.90   9.140000  21.6  \n",
       "2       17.8  392.83   4.030000  34.7  \n",
       "3       18.7  394.63   2.940000  33.4  \n",
       "4       18.7  396.90  12.715432  36.2  \n",
       "..       ...     ...        ...   ...  \n",
       "501     21.0  391.99  12.715432  22.4  \n",
       "502     21.0  396.90   9.080000  20.6  \n",
       "503     21.0  396.90   5.640000  23.9  \n",
       "504     21.0  393.45   6.480000  22.0  \n",
       "505     21.0  396.90   7.880000  11.9  \n",
       "\n",
       "[506 rows x 14 columns]"
      ]
     },
     "execution_count": 29,
     "metadata": {},
     "output_type": "execute_result"
    }
   ],
   "source": [
    "data"
   ]
  },
  {
   "cell_type": "code",
   "execution_count": 55,
   "id": "d3478595",
   "metadata": {},
   "outputs": [
    {
     "data": {
      "text/plain": [
       "{'whiskers': [<matplotlib.lines.Line2D at 0x175a7921dc0>,\n",
       "  <matplotlib.lines.Line2D at 0x175a792f0d0>],\n",
       " 'caps': [<matplotlib.lines.Line2D at 0x175a792f3a0>,\n",
       "  <matplotlib.lines.Line2D at 0x175a792f670>],\n",
       " 'boxes': [<matplotlib.lines.Line2D at 0x175a7921a90>],\n",
       " 'medians': [<matplotlib.lines.Line2D at 0x175a792f940>],\n",
       " 'fliers': [<matplotlib.lines.Line2D at 0x175a792fc10>],\n",
       " 'means': []}"
      ]
     },
     "execution_count": 55,
     "metadata": {},
     "output_type": "execute_result"
    },
    {
     "data": {
      "image/png": "[encoded data removed]",
      "text/plain": [
       "<Figure size 640x480 with 1 Axes>"
      ]
     },
     "metadata": {},
     "output_type": "display_data"
    }
   ],
   "source": [
    "#plt.hist(data['CRIM'])\n",
    "plt.boxplot(data['CRIM'])\n",
    "q1=data['CRIM'].quantile(0.25)\n",
    "q3=data['CRIM'].quantile(0.75)\n",
    "IQR=q3-q1\n",
    "data=data[(data['CRIM']<(q3+IQR)) | (data['CRIM']>(q1-IQR))]\n",
    "plt.boxplot(data['CRIM'])\n"
   ]
  },
  {
   "cell_type": "code",
   "execution_count": 60,
   "id": "44817a46",
   "metadata": {},
   "outputs": [
    {
     "data": {
      "text/plain": [
       "{'whiskers': [<matplotlib.lines.Line2D at 0x175a77c5dc0>,\n",
       "  <matplotlib.lines.Line2D at 0x175a77c5910>],\n",
       " 'caps': [<matplotlib.lines.Line2D at 0x175a77c5670>,\n",
       "  <matplotlib.lines.Line2D at 0x175a77c5100>],\n",
       " 'boxes': [<matplotlib.lines.Line2D at 0x175a77c5c10>],\n",
       " 'medians': [<matplotlib.lines.Line2D at 0x175a77abd90>],\n",
       " 'fliers': [<matplotlib.lines.Line2D at 0x175a77ab130>],\n",
       " 'means': []}"
      ]
     },
     "execution_count": 60,
     "metadata": {},
     "output_type": "execute_result"
    },
    {
     "data": {
      "image/png": "[encoded data removed]",
      "text/plain": [
       "<Figure size 640x480 with 1 Axes>"
      ]
     },
     "metadata": {},
     "output_type": "display_data"
    }
   ],
   "source": [
    "#plt.hist(data['ZN'])\n",
    "q1=data['ZN'].quantile(0.25)\n",
    "q3=data['ZN'].quantile(0.75)\n",
    "IQR=q3-q1\n",
    "data=data[(data['ZN']<(q3+IQR)) | (data['ZN']>(q1-IQR))]\n",
    "plt.boxplot(data['ZN'])"
   ]
  },
  {
   "cell_type": "code",
   "execution_count": 62,
   "id": "0f17ae6f",
   "metadata": {},
   "outputs": [
    {
     "data": {
      "text/plain": [
       "{'whiskers': [<matplotlib.lines.Line2D at 0x175a767f2e0>,\n",
       "  <matplotlib.lines.Line2D at 0x175a7557bb0>],\n",
       " 'caps': [<matplotlib.lines.Line2D at 0x175a7557a90>,\n",
       "  <matplotlib.lines.Line2D at 0x175a75573d0>],\n",
       " 'boxes': [<matplotlib.lines.Line2D at 0x175a767f6d0>],\n",
       " 'medians': [<matplotlib.lines.Line2D at 0x175a7557eb0>],\n",
       " 'fliers': [<matplotlib.lines.Line2D at 0x175a7557460>],\n",
       " 'means': []}"
      ]
     },
     "execution_count": 62,
     "metadata": {},
     "output_type": "execute_result"
    },
    {
     "data": {
      "image/png": "[encoded data removed]",
      "text/plain": [
       "<Figure size 640x480 with 1 Axes>"
      ]
     },
     "metadata": {},
     "output_type": "display_data"
    }
   ],
   "source": [
    "#plt.hist(data['INDUS'])\n",
    "q1=data['INDUS'].quantile(0.25)\n",
    "q3=data['INDUS'].quantile(0.75)\n",
    "IQR=q3-q1\n",
    "data=data[(data['INDUS']<(q3+IQR)) | (data['INDUS']>(q1-IQR))]\n",
    "plt.boxplot(data['INDUS'])"
   ]
  },
  {
   "cell_type": "code",
   "execution_count": 64,
   "id": "4a9efce0",
   "metadata": {},
   "outputs": [
    {
     "data": {
      "text/plain": [
       "{'whiskers': [<matplotlib.lines.Line2D at 0x175a75dcd30>,\n",
       "  <matplotlib.lines.Line2D at 0x175a75d0040>],\n",
       " 'caps': [<matplotlib.lines.Line2D at 0x175a75d0310>,\n",
       "  <matplotlib.lines.Line2D at 0x175a75d05e0>],\n",
       " 'boxes': [<matplotlib.lines.Line2D at 0x175a75dca30>],\n",
       " 'medians': [<matplotlib.lines.Line2D at 0x175a75d08b0>],\n",
       " 'fliers': [<matplotlib.lines.Line2D at 0x175a75d0b80>],\n",
       " 'means': []}"
      ]
     },
     "execution_count": 64,
     "metadata": {},
     "output_type": "execute_result"
    },
    {
     "data": {
      "image/png": "[encoded data removed]",
      "text/plain": [
       "<Figure size 640x480 with 1 Axes>"
      ]
     },
     "metadata": {},
     "output_type": "display_data"
    }
   ],
   "source": [
    "#plt.hist(data['CHAS'])\n",
    "q1=data['CHAS'].quantile(0.25)\n",
    "q3=data['CHAS'].quantile(0.75)\n",
    "IQR=q3-q1\n",
    "data=data[(data['CHAS']<(q3+IQR)) | (data['CHAS']>(q1-IQR))]\n",
    "plt.boxplot(data['CHAS'])"
   ]
  },
  {
   "cell_type": "code",
   "execution_count": 66,
   "id": "f610c4ae",
   "metadata": {},
   "outputs": [
    {
     "data": {
      "text/plain": [
       "{'whiskers': [<matplotlib.lines.Line2D at 0x175a757de50>,\n",
       "  <matplotlib.lines.Line2D at 0x175a758c160>],\n",
       " 'caps': [<matplotlib.lines.Line2D at 0x175a758c430>,\n",
       "  <matplotlib.lines.Line2D at 0x175a758c700>],\n",
       " 'boxes': [<matplotlib.lines.Line2D at 0x175a757db80>],\n",
       " 'medians': [<matplotlib.lines.Line2D at 0x175a758c9d0>],\n",
       " 'fliers': [<matplotlib.lines.Line2D at 0x175a758cca0>],\n",
       " 'means': []}"
      ]
     },
     "execution_count": 66,
     "metadata": {},
     "output_type": "execute_result"
    },
    {
     "data": {
      "image/png": "[encoded data removed]",
      "text/plain": [
       "<Figure size 640x480 with 1 Axes>"
      ]
     },
     "metadata": {},
     "output_type": "display_data"
    }
   ],
   "source": [
    "#plt.hist(data['NOX'])\n",
    "q1=data['NOX'].quantile(0.25)\n",
    "q3=data['NOX'].quantile(0.75)\n",
    "IQR=q3-q1\n",
    "data=data[(data['NOX']<(q3+IQR)) | (data['NOX']>(q1-IQR))]\n",
    "plt.boxplot(data['NOX'])"
   ]
  },
  {
   "cell_type": "code",
   "execution_count": 68,
   "id": "676431f8",
   "metadata": {},
   "outputs": [
    {
     "data": {
      "text/plain": [
       "{'whiskers': [<matplotlib.lines.Line2D at 0x175a8bb78b0>,\n",
       "  <matplotlib.lines.Line2D at 0x175a8bb7b80>],\n",
       " 'caps': [<matplotlib.lines.Line2D at 0x175a8bb7e50>,\n",
       "  <matplotlib.lines.Line2D at 0x175a8bc5160>],\n",
       " 'boxes': [<matplotlib.lines.Line2D at 0x175a8bb75e0>],\n",
       " 'medians': [<matplotlib.lines.Line2D at 0x175a8bc5430>],\n",
       " 'fliers': [<matplotlib.lines.Line2D at 0x175a8bc5700>],\n",
       " 'means': []}"
      ]
     },
     "execution_count": 68,
     "metadata": {},
     "output_type": "execute_result"
    },
    {
     "data": {
      "image/png": "[encoded data removed]",
      "text/plain": [
       "<Figure size 640x480 with 1 Axes>"
      ]
     },
     "metadata": {},
     "output_type": "display_data"
    }
   ],
   "source": [
    "#plt.hist(data['RM'])\n",
    "q1=data['RM'].quantile(0.25)\n",
    "q3=data['RM'].quantile(0.75)\n",
    "IQR=q3-q1\n",
    "data=data[(data['RM']<(q3+IQR)) | (data['RM']>(q1-IQR))]\n",
    "plt.boxplot(data['RM'])"
   ]
  },
  {
   "cell_type": "code",
   "execution_count": 70,
   "id": "4d53aad2",
   "metadata": {},
   "outputs": [
    {
     "data": {
      "text/plain": [
       "{'whiskers': [<matplotlib.lines.Line2D at 0x175a8c8f9a0>,\n",
       "  <matplotlib.lines.Line2D at 0x175a8c8fbe0>],\n",
       " 'caps': [<matplotlib.lines.Line2D at 0x175a8c8feb0>,\n",
       "  <matplotlib.lines.Line2D at 0x175a8c9e190>],\n",
       " 'boxes': [<matplotlib.lines.Line2D at 0x175a8c8f730>],\n",
       " 'medians': [<matplotlib.lines.Line2D at 0x175a8c9e460>],\n",
       " 'fliers': [<matplotlib.lines.Line2D at 0x175a8c9e730>],\n",
       " 'means': []}"
      ]
     },
     "execution_count": 70,
     "metadata": {},
     "output_type": "execute_result"
    },
    {
     "data": {
      "image/png": "[encoded data removed]",
      "text/plain": [
       "<Figure size 640x480 with 1 Axes>"
      ]
     },
     "metadata": {},
     "output_type": "display_data"
    }
   ],
   "source": [
    "#plt.hist(data['AGE'])\n",
    "q1=data['AGE'].quantile(0.25)\n",
    "q3=data['AGE'].quantile(0.75)\n",
    "IQR=q3-q1\n",
    "data=data[(data['AGE']<(q3+IQR)) | (data['AGE']>(q1-IQR))]\n",
    "plt.boxplot(data['AGE'])"
   ]
  },
  {
   "cell_type": "code",
   "execution_count": 71,
   "id": "62e1e2c4",
   "metadata": {},
   "outputs": [
    {
     "data": {
      "text/plain": [
       "{'whiskers': [<matplotlib.lines.Line2D at 0x175a8cb4430>,\n",
       "  <matplotlib.lines.Line2D at 0x175a8cb4700>],\n",
       " 'caps': [<matplotlib.lines.Line2D at 0x175a8cb49d0>,\n",
       "  <matplotlib.lines.Line2D at 0x175a8cb4ca0>],\n",
       " 'boxes': [<matplotlib.lines.Line2D at 0x175a8cb4130>],\n",
       " 'medians': [<matplotlib.lines.Line2D at 0x175a8cb4f70>],\n",
       " 'fliers': [<matplotlib.lines.Line2D at 0x175a8cc2280>],\n",
       " 'means': []}"
      ]
     },
     "execution_count": 71,
     "metadata": {},
     "output_type": "execute_result"
    },
    {
     "data": {
      "image/png": "[encoded data removed]",
      "text/plain": [
       "<Figure size 640x480 with 1 Axes>"
      ]
     },
     "metadata": {},
     "output_type": "display_data"
    }
   ],
   "source": [
    "#plt.hist(data['DIS'])\n",
    "q1=data['DIS'].quantile(0.25)\n",
    "q3=data['DIS'].quantile(0.75)\n",
    "IQR=q3-q1\n",
    "data=data[(data['DIS']<(q3+IQR)) | (data['DIS']>(q1-IQR))]\n",
    "plt.boxplot(data['DIS'])"
   ]
  },
  {
   "cell_type": "code",
   "execution_count": 72,
   "id": "5b8721c0",
   "metadata": {},
   "outputs": [
    {
     "data": {
      "text/html": [
       "<div>\n",
       "<style scoped>\n",
       "    .dataframe tbody tr th:only-of-type {\n",
       "        vertical-align: middle;\n",
       "    }\n",
       "\n",
       "    .dataframe tbody tr th {\n",
       "        vertical-align: top;\n",
       "    }\n",
       "\n",
       "    .dataframe thead th {\n",
       "        text-align: right;\n",
       "    }\n",
       "</style>\n",
       "<table border=\"1\" class=\"dataframe\">\n",
       "  <thead>\n",
       "    <tr style=\"text-align: right;\">\n",
       "      <th></th>\n",
       "      <th>CRIM</th>\n",
       "      <th>ZN</th>\n",
       "      <th>INDUS</th>\n",
       "      <th>CHAS</th>\n",
       "      <th>NOX</th>\n",
       "      <th>RM</th>\n",
       "      <th>AGE</th>\n",
       "      <th>DIS</th>\n",
       "      <th>RAD</th>\n",
       "      <th>TAX</th>\n",
       "      <th>PTRATIO</th>\n",
       "      <th>B</th>\n",
       "      <th>LSTAT</th>\n",
       "      <th>MEDV</th>\n",
       "    </tr>\n",
       "  </thead>\n",
       "  <tbody>\n",
       "    <tr>\n",
       "      <th>CRIM</th>\n",
       "      <td>1.000000</td>\n",
       "      <td>-0.538027</td>\n",
       "      <td>0.169135</td>\n",
       "      <td>0.191683</td>\n",
       "      <td>0.333478</td>\n",
       "      <td>-0.256531</td>\n",
       "      <td>0.559837</td>\n",
       "      <td>-0.404586</td>\n",
       "      <td>0.333983</td>\n",
       "      <td>0.248481</td>\n",
       "      <td>0.481274</td>\n",
       "      <td>-0.259356</td>\n",
       "      <td>0.445690</td>\n",
       "      <td>-0.217381</td>\n",
       "    </tr>\n",
       "    <tr>\n",
       "      <th>ZN</th>\n",
       "      <td>-0.538027</td>\n",
       "      <td>1.000000</td>\n",
       "      <td>-0.617248</td>\n",
       "      <td>-0.033547</td>\n",
       "      <td>-0.639807</td>\n",
       "      <td>0.492696</td>\n",
       "      <td>-0.533894</td>\n",
       "      <td>0.622069</td>\n",
       "      <td>-0.354437</td>\n",
       "      <td>-0.281112</td>\n",
       "      <td>-0.434089</td>\n",
       "      <td>0.188954</td>\n",
       "      <td>-0.455727</td>\n",
       "      <td>0.417084</td>\n",
       "    </tr>\n",
       "    <tr>\n",
       "      <th>INDUS</th>\n",
       "      <td>0.169135</td>\n",
       "      <td>-0.617248</td>\n",
       "      <td>1.000000</td>\n",
       "      <td>-0.104194</td>\n",
       "      <td>0.743946</td>\n",
       "      <td>-0.571792</td>\n",
       "      <td>0.375972</td>\n",
       "      <td>-0.497106</td>\n",
       "      <td>0.616808</td>\n",
       "      <td>0.660790</td>\n",
       "      <td>0.549607</td>\n",
       "      <td>-0.332614</td>\n",
       "      <td>0.348318</td>\n",
       "      <td>-0.258324</td>\n",
       "    </tr>\n",
       "    <tr>\n",
       "      <th>CHAS</th>\n",
       "      <td>0.191683</td>\n",
       "      <td>-0.033547</td>\n",
       "      <td>-0.104194</td>\n",
       "      <td>1.000000</td>\n",
       "      <td>0.046999</td>\n",
       "      <td>0.310760</td>\n",
       "      <td>0.299532</td>\n",
       "      <td>-0.547102</td>\n",
       "      <td>-0.068985</td>\n",
       "      <td>-0.269115</td>\n",
       "      <td>0.070703</td>\n",
       "      <td>0.094881</td>\n",
       "      <td>-0.028330</td>\n",
       "      <td>0.410294</td>\n",
       "    </tr>\n",
       "    <tr>\n",
       "      <th>NOX</th>\n",
       "      <td>0.333478</td>\n",
       "      <td>-0.639807</td>\n",
       "      <td>0.743946</td>\n",
       "      <td>0.046999</td>\n",
       "      <td>1.000000</td>\n",
       "      <td>-0.331501</td>\n",
       "      <td>0.522903</td>\n",
       "      <td>-0.715173</td>\n",
       "      <td>0.774033</td>\n",
       "      <td>0.754871</td>\n",
       "      <td>0.382401</td>\n",
       "      <td>-0.532847</td>\n",
       "      <td>0.216207</td>\n",
       "      <td>-0.110472</td>\n",
       "    </tr>\n",
       "    <tr>\n",
       "      <th>RM</th>\n",
       "      <td>-0.256531</td>\n",
       "      <td>0.492696</td>\n",
       "      <td>-0.571792</td>\n",
       "      <td>0.310760</td>\n",
       "      <td>-0.331501</td>\n",
       "      <td>1.000000</td>\n",
       "      <td>-0.362473</td>\n",
       "      <td>0.073930</td>\n",
       "      <td>-0.084432</td>\n",
       "      <td>-0.250839</td>\n",
       "      <td>-0.382067</td>\n",
       "      <td>-0.026267</td>\n",
       "      <td>-0.782109</td>\n",
       "      <td>0.809853</td>\n",
       "    </tr>\n",
       "    <tr>\n",
       "      <th>AGE</th>\n",
       "      <td>0.559837</td>\n",
       "      <td>-0.533894</td>\n",
       "      <td>0.375972</td>\n",
       "      <td>0.299532</td>\n",
       "      <td>0.522903</td>\n",
       "      <td>-0.362473</td>\n",
       "      <td>1.000000</td>\n",
       "      <td>-0.470840</td>\n",
       "      <td>0.282150</td>\n",
       "      <td>0.246924</td>\n",
       "      <td>0.206418</td>\n",
       "      <td>0.023190</td>\n",
       "      <td>0.554929</td>\n",
       "      <td>-0.258616</td>\n",
       "    </tr>\n",
       "    <tr>\n",
       "      <th>DIS</th>\n",
       "      <td>-0.404586</td>\n",
       "      <td>0.622069</td>\n",
       "      <td>-0.497106</td>\n",
       "      <td>-0.547102</td>\n",
       "      <td>-0.715173</td>\n",
       "      <td>0.073930</td>\n",
       "      <td>-0.470840</td>\n",
       "      <td>1.000000</td>\n",
       "      <td>-0.465869</td>\n",
       "      <td>-0.354103</td>\n",
       "      <td>-0.404255</td>\n",
       "      <td>0.209755</td>\n",
       "      <td>-0.134866</td>\n",
       "      <td>-0.112805</td>\n",
       "    </tr>\n",
       "    <tr>\n",
       "      <th>RAD</th>\n",
       "      <td>0.333983</td>\n",
       "      <td>-0.354437</td>\n",
       "      <td>0.616808</td>\n",
       "      <td>-0.068985</td>\n",
       "      <td>0.774033</td>\n",
       "      <td>-0.084432</td>\n",
       "      <td>0.282150</td>\n",
       "      <td>-0.465869</td>\n",
       "      <td>1.000000</td>\n",
       "      <td>0.933225</td>\n",
       "      <td>0.498146</td>\n",
       "      <td>-0.739380</td>\n",
       "      <td>-0.052684</td>\n",
       "      <td>0.165417</td>\n",
       "    </tr>\n",
       "    <tr>\n",
       "      <th>TAX</th>\n",
       "      <td>0.248481</td>\n",
       "      <td>-0.281112</td>\n",
       "      <td>0.660790</td>\n",
       "      <td>-0.269115</td>\n",
       "      <td>0.754871</td>\n",
       "      <td>-0.250839</td>\n",
       "      <td>0.246924</td>\n",
       "      <td>-0.354103</td>\n",
       "      <td>0.933225</td>\n",
       "      <td>1.000000</td>\n",
       "      <td>0.498050</td>\n",
       "      <td>-0.663347</td>\n",
       "      <td>0.006477</td>\n",
       "      <td>0.026502</td>\n",
       "    </tr>\n",
       "    <tr>\n",
       "      <th>PTRATIO</th>\n",
       "      <td>0.481274</td>\n",
       "      <td>-0.434089</td>\n",
       "      <td>0.549607</td>\n",
       "      <td>0.070703</td>\n",
       "      <td>0.382401</td>\n",
       "      <td>-0.382067</td>\n",
       "      <td>0.206418</td>\n",
       "      <td>-0.404255</td>\n",
       "      <td>0.498146</td>\n",
       "      <td>0.498050</td>\n",
       "      <td>1.000000</td>\n",
       "      <td>-0.341597</td>\n",
       "      <td>0.280546</td>\n",
       "      <td>-0.209953</td>\n",
       "    </tr>\n",
       "    <tr>\n",
       "      <th>B</th>\n",
       "      <td>-0.259356</td>\n",
       "      <td>0.188954</td>\n",
       "      <td>-0.332614</td>\n",
       "      <td>0.094881</td>\n",
       "      <td>-0.532847</td>\n",
       "      <td>-0.026267</td>\n",
       "      <td>0.023190</td>\n",
       "      <td>0.209755</td>\n",
       "      <td>-0.739380</td>\n",
       "      <td>-0.663347</td>\n",
       "      <td>-0.341597</td>\n",
       "      <td>1.000000</td>\n",
       "      <td>0.135024</td>\n",
       "      <td>-0.107743</td>\n",
       "    </tr>\n",
       "    <tr>\n",
       "      <th>LSTAT</th>\n",
       "      <td>0.445690</td>\n",
       "      <td>-0.455727</td>\n",
       "      <td>0.348318</td>\n",
       "      <td>-0.028330</td>\n",
       "      <td>0.216207</td>\n",
       "      <td>-0.782109</td>\n",
       "      <td>0.554929</td>\n",
       "      <td>-0.134866</td>\n",
       "      <td>-0.052684</td>\n",
       "      <td>0.006477</td>\n",
       "      <td>0.280546</td>\n",
       "      <td>0.135024</td>\n",
       "      <td>1.000000</td>\n",
       "      <td>-0.732042</td>\n",
       "    </tr>\n",
       "    <tr>\n",
       "      <th>MEDV</th>\n",
       "      <td>-0.217381</td>\n",
       "      <td>0.417084</td>\n",
       "      <td>-0.258324</td>\n",
       "      <td>0.410294</td>\n",
       "      <td>-0.110472</td>\n",
       "      <td>0.809853</td>\n",
       "      <td>-0.258616</td>\n",
       "      <td>-0.112805</td>\n",
       "      <td>0.165417</td>\n",
       "      <td>0.026502</td>\n",
       "      <td>-0.209953</td>\n",
       "      <td>-0.107743</td>\n",
       "      <td>-0.732042</td>\n",
       "      <td>1.000000</td>\n",
       "    </tr>\n",
       "  </tbody>\n",
       "</table>\n",
       "</div>"
      ],
      "text/plain": [
       "             CRIM        ZN     INDUS      CHAS       NOX        RM       AGE  \\\n",
       "CRIM     1.000000 -0.538027  0.169135  0.191683  0.333478 -0.256531  0.559837   \n",
       "ZN      -0.538027  1.000000 -0.617248 -0.033547 -0.639807  0.492696 -0.533894   \n",
       "INDUS    0.169135 -0.617248  1.000000 -0.104194  0.743946 -0.571792  0.375972   \n",
       "CHAS     0.191683 -0.033547 -0.104194  1.000000  0.046999  0.310760  0.299532   \n",
       "NOX      0.333478 -0.639807  0.743946  0.046999  1.000000 -0.331501  0.522903   \n",
       "RM      -0.256531  0.492696 -0.571792  0.310760 -0.331501  1.000000 -0.362473   \n",
       "AGE      0.559837 -0.533894  0.375972  0.299532  0.522903 -0.362473  1.000000   \n",
       "DIS     -0.404586  0.622069 -0.497106 -0.547102 -0.715173  0.073930 -0.470840   \n",
       "RAD      0.333983 -0.354437  0.616808 -0.068985  0.774033 -0.084432  0.282150   \n",
       "TAX      0.248481 -0.281112  0.660790 -0.269115  0.754871 -0.250839  0.246924   \n",
       "PTRATIO  0.481274 -0.434089  0.549607  0.070703  0.382401 -0.382067  0.206418   \n",
       "B       -0.259356  0.188954 -0.332614  0.094881 -0.532847 -0.026267  0.023190   \n",
       "LSTAT    0.445690 -0.455727  0.348318 -0.028330  0.216207 -0.782109  0.554929   \n",
       "MEDV    -0.217381  0.417084 -0.258324  0.410294 -0.110472  0.809853 -0.258616   \n",
       "\n",
       "              DIS       RAD       TAX   PTRATIO         B     LSTAT      MEDV  \n",
       "CRIM    -0.404586  0.333983  0.248481  0.481274 -0.259356  0.445690 -0.217381  \n",
       "ZN       0.622069 -0.354437 -0.281112 -0.434089  0.188954 -0.455727  0.417084  \n",
       "INDUS   -0.497106  0.616808  0.660790  0.549607 -0.332614  0.348318 -0.258324  \n",
       "CHAS    -0.547102 -0.068985 -0.269115  0.070703  0.094881 -0.028330  0.410294  \n",
       "NOX     -0.715173  0.774033  0.754871  0.382401 -0.532847  0.216207 -0.110472  \n",
       "RM       0.073930 -0.084432 -0.250839 -0.382067 -0.026267 -0.782109  0.809853  \n",
       "AGE     -0.470840  0.282150  0.246924  0.206418  0.023190  0.554929 -0.258616  \n",
       "DIS      1.000000 -0.465869 -0.354103 -0.404255  0.209755 -0.134866 -0.112805  \n",
       "RAD     -0.465869  1.000000  0.933225  0.498146 -0.739380 -0.052684  0.165417  \n",
       "TAX     -0.354103  0.933225  1.000000  0.498050 -0.663347  0.006477  0.026502  \n",
       "PTRATIO -0.404255  0.498146  0.498050  1.000000 -0.341597  0.280546 -0.209953  \n",
       "B        0.209755 -0.739380 -0.663347 -0.341597  1.000000  0.135024 -0.107743  \n",
       "LSTAT   -0.134866 -0.052684  0.006477  0.280546  0.135024  1.000000 -0.732042  \n",
       "MEDV    -0.112805  0.165417  0.026502 -0.209953 -0.107743 -0.732042  1.000000  "
      ]
     },
     "execution_count": 72,
     "metadata": {},
     "output_type": "execute_result"
    }
   ],
   "source": [
    "data.corr()"
   ]
  },
  {
   "cell_type": "code",
   "execution_count": 73,
   "id": "bf12da4b",
   "metadata": {},
   "outputs": [
    {
     "data": {
      "text/plain": [
       "<AxesSubplot:>"
      ]
     },
     "execution_count": 73,
     "metadata": {},
     "output_type": "execute_result"
    },
    {
     "data": {
      "image/png": "[encoded data removed]",
      "text/plain": [
       "<Figure size 640x480 with 2 Axes>"
      ]
     },
     "metadata": {},
     "output_type": "display_data"
    }
   ],
   "source": [
    "import seaborn as sns\n",
    "sns.heatmap(data.corr())"
   ]
  },
  {
   "cell_type": "code",
   "execution_count": 75,
   "id": "2374409a",
   "metadata": {},
   "outputs": [],
   "source": [
    "X=data[['CRIM','ZN','INDUS','CHAS','NOX','RM','AGE','DIS','RAD','TAX','PTRATIO','B','LSTAT']]"
   ]
  },
  {
   "cell_type": "code",
   "execution_count": 76,
   "id": "275c09a4",
   "metadata": {},
   "outputs": [],
   "source": [
    "Y=data[['MEDV']]"
   ]
  },
  {
   "cell_type": "code",
   "execution_count": 80,
   "id": "5603b87c",
   "metadata": {},
   "outputs": [],
   "source": [
    "from sklearn.model_selection import train_test_split\n",
    "from sklearn.linear_model import LinearRegression"
   ]
  },
  {
   "cell_type": "code",
   "execution_count": 81,
   "id": "98494bb8",
   "metadata": {},
   "outputs": [],
   "source": [
    "x_train,x_test,y_train,y_test=train_test_split(X,Y,random_state=2,train_size=0.8)"
   ]
  },
  {
   "cell_type": "code",
   "execution_count": 82,
   "id": "19979b15",
   "metadata": {},
   "outputs": [],
   "source": [
    "lr=LinearRegression()"
   ]
  },
  {
   "cell_type": "code",
   "execution_count": 83,
   "id": "cbfb8e39",
   "metadata": {},
   "outputs": [
    {
     "data": {
      "text/plain": [
       "LinearRegression()"
      ]
     },
     "execution_count": 83,
     "metadata": {},
     "output_type": "execute_result"
    }
   ],
   "source": [
    "lr.fit(x_train,y_train)"
   ]
  },
  {
   "cell_type": "code",
   "execution_count": 85,
   "id": "f7aa9db9",
   "metadata": {},
   "outputs": [],
   "source": [
    "y_pred=lr.predict(x_test)"
   ]
  },
  {
   "cell_type": "code",
   "execution_count": 86,
   "id": "389ca858",
   "metadata": {},
   "outputs": [],
   "source": [
    "from sklearn.metrics import r2_score"
   ]
  },
  {
   "cell_type": "code",
   "execution_count": 87,
   "id": "8c2824b0",
   "metadata": {},
   "outputs": [],
   "source": [
    "r2=r2_score(y_test,y_pred)"
   ]
  },
  {
   "cell_type": "code",
   "execution_count": 88,
   "id": "9eec1d31",
   "metadata": {},
   "outputs": [
    {
     "data": {
      "text/plain": [
       "-0.003818421984301601"
      ]
     },
     "execution_count": 88,
     "metadata": {},
     "output_type": "execute_result"
    }
   ],
   "source": [
    "r2"
   ]
  },
  {
   "cell_type": "code",
   "execution_count": 91,
   "id": "ed633408",
   "metadata": {},
   "outputs": [],
   "source": [
    "from sklearn.tree import DecisionTreeRegressor"
   ]
  },
  {
   "cell_type": "code",
   "execution_count": 92,
   "id": "af80cec9",
   "metadata": {},
   "outputs": [],
   "source": [
    "dtr=DecisionTreeRegressor()"
   ]
  },
  {
   "cell_type": "code",
   "execution_count": 96,
   "id": "69b4af24",
   "metadata": {},
   "outputs": [
    {
     "data": {
      "text/plain": [
       "DecisionTreeRegressor()"
      ]
     },
     "execution_count": 96,
     "metadata": {},
     "output_type": "execute_result"
    }
   ],
   "source": [
    "dtr.fit(x_train,y_train)"
   ]
  },
  {
   "cell_type": "code",
   "execution_count": 97,
   "id": "9b70c1c8",
   "metadata": {},
   "outputs": [],
   "source": [
    "y_pred=dtr.predict(x_test)"
   ]
  },
  {
   "cell_type": "code",
   "execution_count": 98,
   "id": "030745ec",
   "metadata": {},
   "outputs": [],
   "source": [
    "r2=r2_score(y_test,y_pred)"
   ]
  },
  {
   "cell_type": "code",
   "execution_count": 99,
   "id": "be632f24",
   "metadata": {},
   "outputs": [
    {
     "data": {
      "text/plain": [
       "-0.7460041273823497"
      ]
     },
     "execution_count": 99,
     "metadata": {},
     "output_type": "execute_result"
    }
   ],
   "source": [
    "r2"
   ]
  },
  {
   "cell_type": "code",
   "execution_count": 101,
   "id": "097baeb2",
   "metadata": {},
   "outputs": [],
   "source": [
    "## Got the r2 score of -0.74 using decision tree"
   ]
  },
  {
   "cell_type": "code",
   "execution_count": null,
   "id": "29154279",
   "metadata": {},
   "outputs": [],
   "source": []
  }
 ],
 "metadata": {
  "kernelspec": {
   "display_name": "Python 3 (ipykernel)",
   "language": "python",
   "name": "python3"
  },
  "language_info": {
   "codemirror_mode": {
    "name": "ipython",
    "version": 3
   },
   "file_extension": ".py",
   "mimetype": "text/x-python",
   "name": "python",
   "nbconvert_exporter": "python",
   "pygments_lexer": "ipython3",
   "version": "3.9.13"
  }
 },
 "nbformat": 4,
 "nbformat_minor": 5
}
